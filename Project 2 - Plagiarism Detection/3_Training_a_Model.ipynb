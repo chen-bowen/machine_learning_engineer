{
 "cells": [
  {
   "cell_type": "markdown",
   "metadata": {},
   "source": [
    "# Plagiarism Detection Model\n",
    "\n",
    "Now that you've created training and test data, you are ready to define and train a model. Your goal in this notebook, will be to train a binary classification model that learns to label an answer file as either plagiarized or not, based on the features you provide the model.\n",
    "\n",
    "This task will be broken down into a few discrete steps:\n",
    "\n",
    "* Upload your data to S3.\n",
    "* Define a binary classification model and a training script.\n",
    "* Train your model and deploy it.\n",
    "* Evaluate your deployed classifier and answer some questions about your approach.\n",
    "\n",
    "To complete this notebook, you'll have to complete all given exercises and answer all the questions in this notebook.\n",
    "> All your tasks will be clearly labeled **EXERCISE** and questions as **QUESTION**.\n",
    "\n",
    "It will be up to you to explore different classification models and decide on a model that gives you the best performance for this dataset.\n",
    "\n",
    "---"
   ]
  },
  {
   "cell_type": "markdown",
   "metadata": {},
   "source": [
    "## Load Data to S3\n",
    "\n",
    "In the last notebook, you should have created two files: a `training.csv` and `test.csv` file with the features and class labels for the given corpus of plagiarized/non-plagiarized text data. \n",
    "\n",
    ">The below cells load in some AWS SageMaker libraries and creates a default bucket. After creating this bucket, you can upload your locally stored data to S3.\n",
    "\n",
    "Save your train and test `.csv` feature files, locally. To do this you can run the second notebook \"2_Plagiarism_Feature_Engineering\" in SageMaker or you can manually upload your files to this notebook using the upload icon in Jupyter Lab. Then you can upload local files to S3 by using `sagemaker_session.upload_data` and pointing directly to where the training data is saved."
   ]
  },
  {
   "cell_type": "code",
   "execution_count": 2,
   "metadata": {},
   "outputs": [],
   "source": [
    "import pandas as pd\n",
    "import boto3\n",
    "import sagemaker"
   ]
  },
  {
   "cell_type": "code",
   "execution_count": 3,
   "metadata": {},
   "outputs": [],
   "source": [
    "\"\"\"\n",
    "DON'T MODIFY ANYTHING IN THIS CELL THAT IS BELOW THIS LINE\n",
    "\"\"\"\n",
    "# session and role\n",
    "sagemaker_session = sagemaker.Session()\n",
    "role = sagemaker.get_execution_role()\n",
    "\n",
    "# create an S3 bucket\n",
    "bucket = sagemaker_session.default_bucket()"
   ]
  },
  {
   "cell_type": "markdown",
   "metadata": {},
   "source": [
    "## EXERCISE: Upload your training data to S3\n",
    "\n",
    "Specify the `data_dir` where you've saved your `train.csv` file. Decide on a descriptive `prefix` that defines where your data will be uploaded in the default S3 bucket. Finally, create a pointer to your training data by calling `sagemaker_session.upload_data` and passing in the required parameters. It may help to look at the [Session documentation](https://sagemaker.readthedocs.io/en/stable/session.html#sagemaker.session.Session.upload_data) or previous SageMaker code examples.\n",
    "\n",
    "You are expected to upload your entire directory. Later, the training script will only access the `train.csv` file."
   ]
  },
  {
   "cell_type": "code",
   "execution_count": 4,
   "metadata": {},
   "outputs": [],
   "source": [
    "# should be the name of directory you created to save your features data\n",
    "train_data_dir = \"plagiarism_data/train.csv\"\n",
    "test_data_dir = \"plagiarism_data/test.csv\"\n",
    "\n",
    "# set prefix, a descriptive name for a directory  \n",
    "train_prefix = \"plagrism_detection/training\"\n",
    "test_prefix = \"plagrism_detection/test\"\n",
    "\n",
    "# upload all data to S3\n",
    "train_path = sagemaker_session.upload_data(train_data_dir, bucket=bucket, key_prefix=train_prefix)\n",
    "test_path = sagemaker_session.upload_data(test_data_dir, bucket=bucket, key_prefix=test_prefix)"
   ]
  },
  {
   "cell_type": "markdown",
   "metadata": {},
   "source": [
    "### Test cell\n",
    "\n",
    "Test that your data has been successfully uploaded. The below cell prints out the items in your S3 bucket and will throw an error if it is empty. You should see the contents of your `data_dir` and perhaps some checkpoints. If you see any other files listed, then you may have some old model files that you can delete via the S3 console (though, additional files shouldn't affect the performance of model developed in this notebook)."
   ]
  },
  {
   "cell_type": "code",
   "execution_count": 5,
   "metadata": {},
   "outputs": [
    {
     "name": "stdout",
     "output_type": "stream",
     "text": [
      "energy_consumption/output/forecasting-deepar-2020-01-04-05-30-21-972/output/model.tar.gz\n",
      "energy_consumption/test/test.json\n",
      "energy_consumption/train/train.json\n",
      "plagrism_detection/test/test.csv\n",
      "plagrism_detection/training/train.csv\n",
      "sagemaker-pytorch-2020-01-08-07-33-57-502/debug-output/training_job_end.ts\n",
      "sagemaker-pytorch-2020-01-08-07-33-57-502/source/sourcedir.tar.gz\n",
      "sagemaker-pytorch-2020-01-08-07-58-22-752/debug-output/training_job_end.ts\n",
      "sagemaker-pytorch-2020-01-08-07-58-22-752/source/sourcedir.tar.gz\n",
      "sagemaker-pytorch-2020-01-08-07-59-20-159/debug-output/training_job_end.ts\n",
      "sagemaker-pytorch-2020-01-08-07-59-20-159/source/sourcedir.tar.gz\n",
      "sagemaker-pytorch-2020-01-08-08-08-36-195/debug-output/training_job_end.ts\n",
      "sagemaker-pytorch-2020-01-08-08-08-36-195/source/sourcedir.tar.gz\n",
      "sagemaker-pytorch-2020-01-08-08-23-39-944/debug-output/training_job_end.ts\n",
      "sagemaker-pytorch-2020-01-08-08-23-39-944/source/sourcedir.tar.gz\n",
      "sagemaker-pytorch-2020-01-08-08-35-53-500/debug-output/training_job_end.ts\n",
      "sagemaker-pytorch-2020-01-08-08-35-53-500/source/sourcedir.tar.gz\n",
      "sagemaker-pytorch-2020-01-08-08-41-17-214/debug-output/training_job_end.ts\n",
      "sagemaker-pytorch-2020-01-08-08-41-17-214/source/sourcedir.tar.gz\n",
      "sagemaker-pytorch-2020-01-08-08-46-48-373/debug-output/training_job_end.ts\n",
      "sagemaker-pytorch-2020-01-08-08-46-48-373/source/sourcedir.tar.gz\n",
      "sagemaker-pytorch-2020-01-08-08-53-17-103/debug-output/training_job_end.ts\n",
      "sagemaker-pytorch-2020-01-08-08-53-17-103/source/sourcedir.tar.gz\n",
      "sagemaker-pytorch-2020-01-08-09-01-47-336/debug-output/training_job_end.ts\n",
      "sagemaker-pytorch-2020-01-08-09-01-47-336/output/model.tar.gz\n",
      "sagemaker-pytorch-2020-01-08-09-01-47-336/source/sourcedir.tar.gz\n",
      "sagemaker-pytorch-2020-01-08-09-09-49-275/debug-output/training_job_end.ts\n",
      "sagemaker-pytorch-2020-01-08-09-09-49-275/output/model.tar.gz\n",
      "sagemaker-pytorch-2020-01-08-09-09-49-275/source/sourcedir.tar.gz\n",
      "Test passed!\n"
     ]
    }
   ],
   "source": [
    "\"\"\"\n",
    "DON'T MODIFY ANYTHING IN THIS CELL THAT IS BELOW THIS LINE\n",
    "\"\"\"\n",
    "# confirm that data is in S3 bucket\n",
    "empty_check = []\n",
    "for obj in boto3.resource('s3').Bucket(bucket).objects.all():\n",
    "    empty_check.append(obj.key)\n",
    "    print(obj.key)\n",
    "\n",
    "assert len(empty_check) !=0, 'S3 bucket is empty.'\n",
    "print('Test passed!')"
   ]
  },
  {
   "cell_type": "markdown",
   "metadata": {},
   "source": [
    "---\n",
    "\n",
    "# Modeling\n",
    "\n",
    "Now that you've uploaded your training data, it's time to define and train a model!\n",
    "\n",
    "The type of model you create is up to you. For a binary classification task, you can choose to go one of three routes:\n",
    "* Use a built-in classification algorithm, like LinearLearner.\n",
    "* Define a custom Scikit-learn classifier, a comparison of models can be found [here](https://scikit-learn.org/stable/auto_examples/classification/plot_classifier_comparison.html).\n",
    "* Define a custom PyTorch neural network classifier. \n",
    "\n",
    "It will be up to you to test out a variety of models and choose the best one. Your project will be graded on the accuracy of your final model. \n",
    " \n",
    "---\n",
    "\n",
    "## EXERCISE: Complete a training script \n",
    "\n",
    "To implement a custom classifier, you'll need to complete a `train.py` script. You've been given the folders `source_sklearn` and `source_pytorch` which hold starting code for a custom Scikit-learn model and a PyTorch model, respectively. Each directory has a `train.py` training script. To complete this project **you only need to complete one of these scripts**; the script that is responsible for training your final model.\n",
    "\n",
    "A typical training script:\n",
    "* Loads training data from a specified directory\n",
    "* Parses any training & model hyperparameters (ex. nodes in a neural network, training epochs, etc.)\n",
    "* Instantiates a model of your design, with any specified hyperparams\n",
    "* Trains that model \n",
    "* Finally, saves the model so that it can be hosted/deployed, later\n",
    "\n",
    "### Defining and training a model\n",
    "Much of the training script code is provided for you. Almost all of your work will be done in the `if __name__ == '__main__':` section. To complete a `train.py` file, you will:\n",
    "1. Import any extra libraries you need\n",
    "2. Define any additional model training hyperparameters using `parser.add_argument`\n",
    "2. Define a model in the `if __name__ == '__main__':` section\n",
    "3. Train the model in that same section\n",
    "\n",
    "Below, you can use `!pygmentize` to display an existing `train.py` file. Read through the code; all of your tasks are marked with `TODO` comments. \n",
    "\n",
    "**Note: If you choose to create a custom PyTorch model, you will be responsible for defining the model in the `model.py` file,** and a `predict.py` file is provided. If you choose to use Scikit-learn, you only need a `train.py` file; you may import a classifier from the `sklearn` library."
   ]
  },
  {
   "cell_type": "code",
   "execution_count": 6,
   "metadata": {},
   "outputs": [
    {
     "name": "stdout",
     "output_type": "stream",
     "text": [
      "\u001b[34mfrom\u001b[39;49;00m \u001b[04m\u001b[36m__future__\u001b[39;49;00m \u001b[34mimport\u001b[39;49;00m print_function\n",
      "\n",
      "\u001b[34mimport\u001b[39;49;00m \u001b[04m\u001b[36margparse\u001b[39;49;00m\n",
      "\u001b[34mimport\u001b[39;49;00m \u001b[04m\u001b[36mos\u001b[39;49;00m\n",
      "\u001b[34mimport\u001b[39;49;00m \u001b[04m\u001b[36mpandas\u001b[39;49;00m \u001b[34mas\u001b[39;49;00m \u001b[04m\u001b[36mpd\u001b[39;49;00m\n",
      "\n",
      "\u001b[34mfrom\u001b[39;49;00m \u001b[04m\u001b[36msklearn.externals\u001b[39;49;00m \u001b[34mimport\u001b[39;49;00m joblib\n",
      "\n",
      "\u001b[37m## TODO: Import any additional libraries you need to define a model\u001b[39;49;00m\n",
      "\n",
      "\n",
      "\u001b[37m# Provided model load function\u001b[39;49;00m\n",
      "\u001b[34mdef\u001b[39;49;00m \u001b[32mmodel_fn\u001b[39;49;00m(model_dir):\n",
      "    \u001b[33m\"\"\"Load model from the model_dir. This is the same model that is saved\u001b[39;49;00m\n",
      "\u001b[33m    in the main if statement.\u001b[39;49;00m\n",
      "\u001b[33m    \"\"\"\u001b[39;49;00m\n",
      "    \u001b[34mprint\u001b[39;49;00m(\u001b[33m\"\u001b[39;49;00m\u001b[33mLoading model.\u001b[39;49;00m\u001b[33m\"\u001b[39;49;00m)\n",
      "    \n",
      "    \u001b[37m# load using joblib\u001b[39;49;00m\n",
      "    model = joblib.load(os.path.join(model_dir, \u001b[33m\"\u001b[39;49;00m\u001b[33mmodel.joblib\u001b[39;49;00m\u001b[33m\"\u001b[39;49;00m))\n",
      "    \u001b[34mprint\u001b[39;49;00m(\u001b[33m\"\u001b[39;49;00m\u001b[33mDone loading model.\u001b[39;49;00m\u001b[33m\"\u001b[39;49;00m)\n",
      "    \n",
      "    \u001b[34mreturn\u001b[39;49;00m model\n",
      "\n",
      "\n",
      "\u001b[37m## TODO: Complete the main code\u001b[39;49;00m\n",
      "\u001b[34mif\u001b[39;49;00m \u001b[31m__name__\u001b[39;49;00m == \u001b[33m'\u001b[39;49;00m\u001b[33m__main__\u001b[39;49;00m\u001b[33m'\u001b[39;49;00m:\n",
      "    \n",
      "    \u001b[37m# All of the model parameters and training parameters are sent as arguments\u001b[39;49;00m\n",
      "    \u001b[37m# when this script is executed, during a training job\u001b[39;49;00m\n",
      "    \n",
      "    \u001b[37m# Here we set up an argument parser to easily access the parameters\u001b[39;49;00m\n",
      "    parser = argparse.ArgumentParser()\n",
      "\n",
      "    \u001b[37m# SageMaker parameters, like the directories for training data and saving models; set automatically\u001b[39;49;00m\n",
      "    \u001b[37m# Do not need to change\u001b[39;49;00m\n",
      "    parser.add_argument(\u001b[33m'\u001b[39;49;00m\u001b[33m--output-data-dir\u001b[39;49;00m\u001b[33m'\u001b[39;49;00m, \u001b[36mtype\u001b[39;49;00m=\u001b[36mstr\u001b[39;49;00m, default=os.environ[\u001b[33m'\u001b[39;49;00m\u001b[33mSM_OUTPUT_DATA_DIR\u001b[39;49;00m\u001b[33m'\u001b[39;49;00m])\n",
      "    parser.add_argument(\u001b[33m'\u001b[39;49;00m\u001b[33m--model-dir\u001b[39;49;00m\u001b[33m'\u001b[39;49;00m, \u001b[36mtype\u001b[39;49;00m=\u001b[36mstr\u001b[39;49;00m, default=os.environ[\u001b[33m'\u001b[39;49;00m\u001b[33mSM_MODEL_DIR\u001b[39;49;00m\u001b[33m'\u001b[39;49;00m])\n",
      "    parser.add_argument(\u001b[33m'\u001b[39;49;00m\u001b[33m--data-dir\u001b[39;49;00m\u001b[33m'\u001b[39;49;00m, \u001b[36mtype\u001b[39;49;00m=\u001b[36mstr\u001b[39;49;00m, default=os.environ[\u001b[33m'\u001b[39;49;00m\u001b[33mSM_CHANNEL_TRAIN\u001b[39;49;00m\u001b[33m'\u001b[39;49;00m])\n",
      "    \n",
      "    \u001b[37m## TODO: Add any additional arguments that you will need to pass into your model\u001b[39;49;00m\n",
      "    \n",
      "    \u001b[37m# args holds all passed-in arguments\u001b[39;49;00m\n",
      "    args = parser.parse_args()\n",
      "\n",
      "    \u001b[37m# Read in csv training file\u001b[39;49;00m\n",
      "    training_dir = args.data_dir\n",
      "    train_data = pd.read_csv(os.path.join(training_dir, \u001b[33m\"\u001b[39;49;00m\u001b[33mtrain.csv\u001b[39;49;00m\u001b[33m\"\u001b[39;49;00m), header=\u001b[36mNone\u001b[39;49;00m, names=\u001b[36mNone\u001b[39;49;00m)\n",
      "\n",
      "    \u001b[37m# Labels are in the first column\u001b[39;49;00m\n",
      "    train_y = train_data.iloc[:,\u001b[34m0\u001b[39;49;00m]\n",
      "    train_x = train_data.iloc[:,\u001b[34m1\u001b[39;49;00m:]\n",
      "    \n",
      "    \n",
      "    \u001b[37m## --- Your code here --- ##\u001b[39;49;00m\n",
      "    \n",
      "\n",
      "    \u001b[37m## TODO: Define a model \u001b[39;49;00m\n",
      "    model = \u001b[36mNone\u001b[39;49;00m\n",
      "    \n",
      "    \n",
      "    \u001b[37m## TODO: Train the model\u001b[39;49;00m\n",
      "    \n",
      "    \n",
      "    \n",
      "    \u001b[37m## --- End of your code  --- ##\u001b[39;49;00m\n",
      "    \n",
      "\n",
      "    \u001b[37m# Save the trained model\u001b[39;49;00m\n",
      "    joblib.dump(model, os.path.join(args.model_dir, \u001b[33m\"\u001b[39;49;00m\u001b[33mmodel.joblib\u001b[39;49;00m\u001b[33m\"\u001b[39;49;00m))\n"
     ]
    }
   ],
   "source": [
    "# directory can be changed to: source_sklearn or source_pytorch\n",
    "!pygmentize source_sklearn/train.py"
   ]
  },
  {
   "cell_type": "markdown",
   "metadata": {},
   "source": [
    "### Provided code\n",
    "\n",
    "If you read the code above, you can see that the starter code includes a few things:\n",
    "* Model loading (`model_fn`) and saving code\n",
    "* Getting SageMaker's default hyperparameters\n",
    "* Loading the training data by name, `train.csv` and extracting the features and labels, `train_x`, and `train_y`\n",
    "\n",
    "If you'd like to read more about model saving with [joblib for sklearn](https://scikit-learn.org/stable/modules/model_persistence.html) or with [torch.save](https://pytorch.org/tutorials/beginner/saving_loading_models.html), click on the provided links."
   ]
  },
  {
   "cell_type": "markdown",
   "metadata": {},
   "source": [
    "---\n",
    "# Create an Estimator\n",
    "\n",
    "When a custom model is constructed in SageMaker, an entry point must be specified. This is the Python file which will be executed when the model is trained; the `train.py` function you specified above. To run a custom training script in SageMaker, construct an estimator, and fill in the appropriate constructor arguments:\n",
    "\n",
    "* **entry_point**: The path to the Python script SageMaker runs for training and prediction.\n",
    "* **source_dir**: The path to the training script directory `source_sklearn` OR `source_pytorch`.\n",
    "* **entry_point**: The path to the Python script SageMaker runs for training and prediction.\n",
    "* **source_dir**: The path to the training script directory `train_sklearn` OR `train_pytorch`.\n",
    "* **entry_point**: The path to the Python script SageMaker runs for training.\n",
    "* **source_dir**: The path to the training script directory `train_sklearn` OR `train_pytorch`.\n",
    "* **role**: Role ARN, which was specified, above.\n",
    "* **train_instance_count**: The number of training instances (should be left at 1).\n",
    "* **train_instance_type**: The type of SageMaker instance for training. Note: Because Scikit-learn does not natively support GPU training, Sagemaker Scikit-learn does not currently support training on GPU instance types.\n",
    "* **sagemaker_session**: The session used to train on Sagemaker.\n",
    "* **hyperparameters** (optional): A dictionary `{'name':value, ..}` passed to the train function as hyperparameters.\n",
    "\n",
    "Note: For a PyTorch model, there is another optional argument **framework_version**, which you can set to the latest version of PyTorch, `1.0`.\n",
    "\n",
    "## EXERCISE: Define a Scikit-learn or PyTorch estimator\n",
    "\n",
    "To import your desired estimator, use one of the following lines:\n",
    "```\n",
    "from sagemaker.sklearn.estimator import SKLearn\n",
    "```\n",
    "```\n",
    "from sagemaker.pytorch import PyTorch\n",
    "```"
   ]
  },
  {
   "cell_type": "code",
   "execution_count": 7,
   "metadata": {},
   "outputs": [],
   "source": [
    "# import a PyTorch wrapper\n",
    "from sagemaker.pytorch import PyTorch\n",
    "\n",
    "# specify an output path\n",
    "prefix = 'plagarism_classification'\n",
    "bucket_name = sagemaker_session.default_bucket()\n",
    "\n",
    "output_path='s3://{}/{}/'.format(bucket_name, prefix)\n",
    "\n",
    "# instantiate a pytorch estimator\n",
    "estimator = PyTorch(entry_point=\"train.py\",\n",
    "                    source_dir=\"source_pytorch\",\n",
    "                    role=role,\n",
    "                    framework_version='1.0',\n",
    "                    train_instance_count=1,\n",
    "                    train_instance_type='ml.p2.xlarge',\n",
    "                    hyperparameters={\n",
    "                        'epochs': 100,\n",
    "                        'input_dim': 3,\n",
    "                        'hidden1_dim': 15,\n",
    "                        'hidden2_dim': 10,\n",
    "                        'output_dim': 1\n",
    "                    })\n"
   ]
  },
  {
   "cell_type": "markdown",
   "metadata": {},
   "source": [
    "## EXERCISE: Train the estimator\n",
    "\n",
    "Train your estimator on the training data stored in S3. This should create a training job that you can monitor in your SageMaker console."
   ]
  },
  {
   "cell_type": "code",
   "execution_count": 8,
   "metadata": {},
   "outputs": [
    {
     "name": "stdout",
     "output_type": "stream",
     "text": [
      "2020-01-08 19:38:53 Starting - Starting the training job......\n",
      "2020-01-08 19:39:25 Starting - Launching requested ML instances.........\n",
      "2020-01-08 19:40:58 Starting - Preparing the instances for training............\n",
      "2020-01-08 19:43:05 Downloading - Downloading input data...\n",
      "2020-01-08 19:43:54 Training - Downloading the training image...\n",
      "2020-01-08 19:44:18 Training - Training image download completed. Training in progress.\u001b[34mbash: cannot set terminal process group (-1): Inappropriate ioctl for device\u001b[0m\n",
      "\u001b[34mbash: no job control in this shell\u001b[0m\n",
      "\u001b[34m2020-01-08 19:44:19,798 sagemaker-containers INFO     Imported framework sagemaker_pytorch_container.training\u001b[0m\n",
      "\u001b[34m2020-01-08 19:44:19,826 sagemaker_pytorch_container.training INFO     Block until all host DNS lookups succeed.\u001b[0m\n",
      "\u001b[34m2020-01-08 19:44:19,828 sagemaker_pytorch_container.training INFO     Invoking user training script.\u001b[0m\n",
      "\u001b[34m2020-01-08 19:44:20,128 sagemaker-containers INFO     Module train does not provide a setup.py. \u001b[0m\n",
      "\u001b[34mGenerating setup.py\u001b[0m\n",
      "\u001b[34m2020-01-08 19:44:20,128 sagemaker-containers INFO     Generating setup.cfg\u001b[0m\n",
      "\u001b[34m2020-01-08 19:44:20,128 sagemaker-containers INFO     Generating MANIFEST.in\u001b[0m\n",
      "\u001b[34m2020-01-08 19:44:20,129 sagemaker-containers INFO     Installing module with the following command:\u001b[0m\n",
      "\u001b[34m/usr/bin/python -m pip install -U . \u001b[0m\n",
      "\u001b[34mProcessing /opt/ml/code\u001b[0m\n",
      "\u001b[34mBuilding wheels for collected packages: train\n",
      "  Running setup.py bdist_wheel for train: started\n",
      "  Running setup.py bdist_wheel for train: finished with status 'done'\n",
      "  Stored in directory: /tmp/pip-ephem-wheel-cache-e00s4fri/wheels/35/24/16/37574d11bf9bde50616c67372a334f94fa8356bc7164af8ca3\u001b[0m\n",
      "\u001b[34mSuccessfully built train\u001b[0m\n",
      "\u001b[34mInstalling collected packages: train\u001b[0m\n",
      "\u001b[34mSuccessfully installed train-1.0.0\u001b[0m\n",
      "\u001b[34mYou are using pip version 18.1, however version 19.3.1 is available.\u001b[0m\n",
      "\u001b[34mYou should consider upgrading via the 'pip install --upgrade pip' command.\u001b[0m\n",
      "\u001b[34m2020-01-08 19:44:22,102 sagemaker-containers INFO     Invoking user script\n",
      "\u001b[0m\n",
      "\u001b[34mTraining Env:\n",
      "\u001b[0m\n",
      "\u001b[34m{\n",
      "    \"additional_framework_parameters\": {},\n",
      "    \"channel_input_dirs\": {\n",
      "        \"train\": \"/opt/ml/input/data/train\"\n",
      "    },\n",
      "    \"current_host\": \"algo-1\",\n",
      "    \"framework_module\": \"sagemaker_pytorch_container.training:main\",\n",
      "    \"hosts\": [\n",
      "        \"algo-1\"\n",
      "    ],\n",
      "    \"hyperparameters\": {\n",
      "        \"input_dim\": 3,\n",
      "        \"hidden2_dim\": 10,\n",
      "        \"hidden1_dim\": 15,\n",
      "        \"epochs\": 100,\n",
      "        \"output_dim\": 1\n",
      "    },\n",
      "    \"input_config_dir\": \"/opt/ml/input/config\",\n",
      "    \"input_data_config\": {\n",
      "        \"train\": {\n",
      "            \"TrainingInputMode\": \"File\",\n",
      "            \"S3DistributionType\": \"FullyReplicated\",\n",
      "            \"RecordWrapperType\": \"None\"\n",
      "        }\n",
      "    },\n",
      "    \"input_dir\": \"/opt/ml/input\",\n",
      "    \"is_master\": true,\n",
      "    \"job_name\": \"sagemaker-pytorch-2020-01-08-19-38-53-582\",\n",
      "    \"log_level\": 20,\n",
      "    \"master_hostname\": \"algo-1\",\n",
      "    \"model_dir\": \"/opt/ml/model\",\n",
      "    \"module_dir\": \"s3://sagemaker-us-east-1-156337458005/sagemaker-pytorch-2020-01-08-19-38-53-582/source/sourcedir.tar.gz\",\n",
      "    \"module_name\": \"train\",\n",
      "    \"network_interface_name\": \"eth0\",\n",
      "    \"num_cpus\": 4,\n",
      "    \"num_gpus\": 1,\n",
      "    \"output_data_dir\": \"/opt/ml/output/data\",\n",
      "    \"output_dir\": \"/opt/ml/output\",\n",
      "    \"output_intermediate_dir\": \"/opt/ml/output/intermediate\",\n",
      "    \"resource_config\": {\n",
      "        \"current_host\": \"algo-1\",\n",
      "        \"hosts\": [\n",
      "            \"algo-1\"\n",
      "        ],\n",
      "        \"network_interface_name\": \"eth0\"\n",
      "    },\n",
      "    \"user_entry_point\": \"train.py\"\u001b[0m\n",
      "\u001b[34m}\n",
      "\u001b[0m\n",
      "\u001b[34mEnvironment variables:\n",
      "\u001b[0m\n",
      "\u001b[34mSM_HOSTS=[\"algo-1\"]\u001b[0m\n",
      "\u001b[34mSM_NETWORK_INTERFACE_NAME=eth0\u001b[0m\n",
      "\u001b[34mSM_HPS={\"epochs\":100,\"hidden1_dim\":15,\"hidden2_dim\":10,\"input_dim\":3,\"output_dim\":1}\u001b[0m\n",
      "\u001b[34mSM_USER_ENTRY_POINT=train.py\u001b[0m\n",
      "\u001b[34mSM_FRAMEWORK_PARAMS={}\u001b[0m\n",
      "\u001b[34mSM_RESOURCE_CONFIG={\"current_host\":\"algo-1\",\"hosts\":[\"algo-1\"],\"network_interface_name\":\"eth0\"}\u001b[0m\n",
      "\u001b[34mSM_INPUT_DATA_CONFIG={\"train\":{\"RecordWrapperType\":\"None\",\"S3DistributionType\":\"FullyReplicated\",\"TrainingInputMode\":\"File\"}}\u001b[0m\n",
      "\u001b[34mSM_OUTPUT_DATA_DIR=/opt/ml/output/data\u001b[0m\n",
      "\u001b[34mSM_CHANNELS=[\"train\"]\u001b[0m\n",
      "\u001b[34mSM_CURRENT_HOST=algo-1\u001b[0m\n",
      "\u001b[34mSM_MODULE_NAME=train\u001b[0m\n",
      "\u001b[34mSM_LOG_LEVEL=20\u001b[0m\n",
      "\u001b[34mSM_FRAMEWORK_MODULE=sagemaker_pytorch_container.training:main\u001b[0m\n",
      "\u001b[34mSM_INPUT_DIR=/opt/ml/input\u001b[0m\n",
      "\u001b[34mSM_INPUT_CONFIG_DIR=/opt/ml/input/config\u001b[0m\n",
      "\u001b[34mSM_OUTPUT_DIR=/opt/ml/output\u001b[0m\n",
      "\u001b[34mSM_NUM_CPUS=4\u001b[0m\n",
      "\u001b[34mSM_NUM_GPUS=1\u001b[0m\n",
      "\u001b[34mSM_MODEL_DIR=/opt/ml/model\u001b[0m\n",
      "\u001b[34mSM_MODULE_DIR=s3://sagemaker-us-east-1-156337458005/sagemaker-pytorch-2020-01-08-19-38-53-582/source/sourcedir.tar.gz\u001b[0m\n",
      "\u001b[34mSM_TRAINING_ENV={\"additional_framework_parameters\":{},\"channel_input_dirs\":{\"train\":\"/opt/ml/input/data/train\"},\"current_host\":\"algo-1\",\"framework_module\":\"sagemaker_pytorch_container.training:main\",\"hosts\":[\"algo-1\"],\"hyperparameters\":{\"epochs\":100,\"hidden1_dim\":15,\"hidden2_dim\":10,\"input_dim\":3,\"output_dim\":1},\"input_config_dir\":\"/opt/ml/input/config\",\"input_data_config\":{\"train\":{\"RecordWrapperType\":\"None\",\"S3DistributionType\":\"FullyReplicated\",\"TrainingInputMode\":\"File\"}},\"input_dir\":\"/opt/ml/input\",\"is_master\":true,\"job_name\":\"sagemaker-pytorch-2020-01-08-19-38-53-582\",\"log_level\":20,\"master_hostname\":\"algo-1\",\"model_dir\":\"/opt/ml/model\",\"module_dir\":\"s3://sagemaker-us-east-1-156337458005/sagemaker-pytorch-2020-01-08-19-38-53-582/source/sourcedir.tar.gz\",\"module_name\":\"train\",\"network_interface_name\":\"eth0\",\"num_cpus\":4,\"num_gpus\":1,\"output_data_dir\":\"/opt/ml/output/data\",\"output_dir\":\"/opt/ml/output\",\"output_intermediate_dir\":\"/opt/ml/output/intermediate\",\"resource_config\":{\"current_host\":\"algo-1\",\"hosts\":[\"algo-1\"],\"network_interface_name\":\"eth0\"},\"user_entry_point\":\"train.py\"}\u001b[0m\n",
      "\u001b[34mSM_USER_ARGS=[\"--epochs\",\"100\",\"--hidden1_dim\",\"15\",\"--hidden2_dim\",\"10\",\"--input_dim\",\"3\",\"--output_dim\",\"1\"]\u001b[0m\n",
      "\u001b[34mSM_OUTPUT_INTERMEDIATE_DIR=/opt/ml/output/intermediate\u001b[0m\n",
      "\u001b[34mSM_CHANNEL_TRAIN=/opt/ml/input/data/train\u001b[0m\n",
      "\u001b[34mSM_HP_INPUT_DIM=3\u001b[0m\n",
      "\u001b[34mSM_HP_HIDDEN2_DIM=10\u001b[0m\n",
      "\u001b[34mSM_HP_HIDDEN1_DIM=15\u001b[0m\n",
      "\u001b[34mSM_HP_EPOCHS=100\u001b[0m\n",
      "\u001b[34mSM_HP_OUTPUT_DIM=1\u001b[0m\n",
      "\u001b[34mPYTHONPATH=/usr/local/bin:/usr/lib/python36.zip:/usr/lib/python3.6:/usr/lib/python3.6/lib-dynload:/usr/local/lib/python3.6/dist-packages:/usr/lib/python3/dist-packages\n",
      "\u001b[0m\n",
      "\u001b[34mInvoking script with the following command:\n",
      "\u001b[0m\n",
      "\u001b[34m/usr/bin/python -m train --epochs 100 --hidden1_dim 15 --hidden2_dim 10 --input_dim 3 --output_dim 1\n",
      "\n",
      "\u001b[0m\n",
      "\u001b[34mUsing device cuda.\u001b[0m\n",
      "\u001b[34mGet train data loader.\u001b[0m\n",
      "\u001b[34mEpoch: 1, Loss: 0.6908921258790153\u001b[0m\n",
      "\u001b[34mEpoch: 2, Loss: 0.6791894861630031\u001b[0m\n",
      "\u001b[34mEpoch: 3, Loss: 0.6789929185594831\u001b[0m\n",
      "\u001b[34mEpoch: 4, Loss: 0.6759961247444153\u001b[0m\n",
      "\u001b[34mEpoch: 5, Loss: 0.676027238368988\u001b[0m\n",
      "\u001b[34mEpoch: 6, Loss: 0.6726602571351188\u001b[0m\n",
      "\u001b[34mEpoch: 7, Loss: 0.6582892281668526\u001b[0m\n",
      "\u001b[34mEpoch: 8, Loss: 0.6708836300032479\u001b[0m\n",
      "\u001b[34mEpoch: 9, Loss: 0.6404522487095424\u001b[0m\n",
      "\u001b[34mEpoch: 10, Loss: 0.6259258219173977\u001b[0m\n",
      "\u001b[34mEpoch: 11, Loss: 0.6543391942977905\u001b[0m\n",
      "\u001b[34mEpoch: 12, Loss: 0.6532605120113918\u001b[0m\n",
      "\u001b[34mEpoch: 13, Loss: 0.6313414573669434\u001b[0m\n",
      "\u001b[34mEpoch: 14, Loss: 0.6253830449921745\u001b[0m\n",
      "\u001b[34mEpoch: 15, Loss: 0.6192138876233783\u001b[0m\n",
      "\u001b[34mEpoch: 16, Loss: 0.6300515532493591\u001b[0m\n",
      "\u001b[34mEpoch: 17, Loss: 0.627914982182639\u001b[0m\n",
      "\u001b[34mEpoch: 18, Loss: 0.6185677988188607\u001b[0m\n",
      "\u001b[34mEpoch: 19, Loss: 0.6192748546600342\u001b[0m\n",
      "\u001b[34mEpoch: 20, Loss: 0.6254347477640424\u001b[0m\n",
      "\u001b[34mEpoch: 21, Loss: 0.6052978975432259\u001b[0m\n",
      "\u001b[34mEpoch: 22, Loss: 0.6073388883045742\u001b[0m\n",
      "\u001b[34mEpoch: 23, Loss: 0.5920067344393048\u001b[0m\n",
      "\u001b[34mEpoch: 24, Loss: 0.6005529931613377\u001b[0m\n",
      "\u001b[34mEpoch: 25, Loss: 0.5723159653799874\u001b[0m\n",
      "\u001b[34mEpoch: 26, Loss: 0.5807880205767495\u001b[0m\n",
      "\u001b[34mEpoch: 27, Loss: 0.5645910033157894\u001b[0m\n",
      "\u001b[34mEpoch: 28, Loss: 0.5604172945022583\u001b[0m\n",
      "\u001b[34mEpoch: 29, Loss: 0.5724772044590541\u001b[0m\n",
      "\u001b[34mEpoch: 30, Loss: 0.5361830805029187\u001b[0m\n",
      "\u001b[34mEpoch: 31, Loss: 0.5486360830920083\u001b[0m\n",
      "\u001b[34mEpoch: 32, Loss: 0.560094062771116\u001b[0m\n",
      "\u001b[34mEpoch: 33, Loss: 0.5342316840376172\u001b[0m\n",
      "\u001b[34mEpoch: 34, Loss: 0.5230931724820819\u001b[0m\n",
      "\u001b[34mEpoch: 35, Loss: 0.5245735389845712\u001b[0m\n",
      "\u001b[34mEpoch: 36, Loss: 0.5127644794327872\u001b[0m\n",
      "\u001b[34mEpoch: 37, Loss: 0.5227282217570713\u001b[0m\n",
      "\u001b[34mEpoch: 38, Loss: 0.5020705546651568\u001b[0m\n",
      "\u001b[34mEpoch: 39, Loss: 0.49994851861681255\u001b[0m\n",
      "\u001b[34mEpoch: 40, Loss: 0.5033087091786521\u001b[0m\n",
      "\u001b[34mEpoch: 41, Loss: 0.5090106512819018\u001b[0m\n",
      "\u001b[34mEpoch: 42, Loss: 0.47857395665986197\u001b[0m\n",
      "\u001b[34mEpoch: 43, Loss: 0.4719109407493046\u001b[0m\n",
      "\u001b[34mEpoch: 44, Loss: 0.46981934564454214\u001b[0m\n",
      "\u001b[34mEpoch: 45, Loss: 0.4677514135837555\u001b[0m\n",
      "\u001b[34mEpoch: 46, Loss: 0.46491545013019014\u001b[0m\n",
      "\u001b[34mEpoch: 47, Loss: 0.47170198389462065\u001b[0m\n",
      "\u001b[34mEpoch: 48, Loss: 0.4690763141427721\u001b[0m\n",
      "\u001b[34mEpoch: 49, Loss: 0.4502833272729601\u001b[0m\n",
      "\u001b[34mEpoch: 50, Loss: 0.4585100454943521\u001b[0m\n",
      "\u001b[34mEpoch: 51, Loss: 0.44823893904685974\u001b[0m\n",
      "\u001b[34mEpoch: 52, Loss: 0.4537670484610966\u001b[0m\n",
      "\u001b[34mEpoch: 53, Loss: 0.44140624148505075\u001b[0m\n",
      "\u001b[34mEpoch: 54, Loss: 0.44480592012405396\u001b[0m\n",
      "\u001b[34mEpoch: 55, Loss: 0.4621713502066476\u001b[0m\n",
      "\u001b[34mEpoch: 56, Loss: 0.4354804498808725\u001b[0m\n",
      "\u001b[34mEpoch: 57, Loss: 0.4341711572238377\u001b[0m\n",
      "\u001b[34mEpoch: 58, Loss: 0.4206192536013467\u001b[0m\n",
      "\u001b[34mEpoch: 59, Loss: 0.4315339412008013\u001b[0m\n",
      "\u001b[34mEpoch: 60, Loss: 0.43470277956553866\u001b[0m\n",
      "\u001b[34mEpoch: 61, Loss: 0.4287009026323046\u001b[0m\n",
      "\u001b[34mEpoch: 62, Loss: 0.4276418387889862\u001b[0m\n",
      "\u001b[34mEpoch: 63, Loss: 0.4227668217250279\u001b[0m\n",
      "\u001b[34mEpoch: 64, Loss: 0.45504283905029297\u001b[0m\n",
      "\u001b[34mEpoch: 65, Loss: 0.4133625030517578\u001b[0m\n",
      "\u001b[34mEpoch: 66, Loss: 0.43029764720371794\u001b[0m\n",
      "\u001b[34mEpoch: 67, Loss: 0.41479919637952534\u001b[0m\n",
      "\u001b[34mEpoch: 68, Loss: 0.40263305817331585\u001b[0m\n",
      "\u001b[34mEpoch: 69, Loss: 0.4095854163169861\u001b[0m\n",
      "\u001b[34mEpoch: 70, Loss: 0.4097822776862553\u001b[0m\n",
      "\u001b[34mEpoch: 71, Loss: 0.41659783891269137\u001b[0m\n",
      "\u001b[34mEpoch: 72, Loss: 0.3931636725153242\u001b[0m\n",
      "\u001b[34mEpoch: 73, Loss: 0.40328007510730196\u001b[0m\n",
      "\u001b[34mEpoch: 74, Loss: 0.4025124055998666\u001b[0m\n",
      "\u001b[34mEpoch: 75, Loss: 0.4091898926666805\u001b[0m\n",
      "\u001b[34mEpoch: 76, Loss: 0.40363851828234537\u001b[0m\n",
      "\u001b[34mEpoch: 77, Loss: 0.39135436500821796\u001b[0m\n",
      "\u001b[34mEpoch: 78, Loss: 0.4060758203268051\u001b[0m\n",
      "\u001b[34mEpoch: 79, Loss: 0.4026905915566853\u001b[0m\n",
      "\u001b[34mEpoch: 80, Loss: 0.4060999516929899\u001b[0m\n",
      "\u001b[34mEpoch: 81, Loss: 0.37658342719078064\u001b[0m\n",
      "\u001b[34mEpoch: 82, Loss: 0.3936902348484312\u001b[0m\n",
      "\u001b[34mEpoch: 83, Loss: 0.3919189125299454\u001b[0m\n",
      "\u001b[34mEpoch: 84, Loss: 0.4255759375435965\u001b[0m\n",
      "\u001b[34mEpoch: 85, Loss: 0.4056739168507712\u001b[0m\n",
      "\u001b[34mEpoch: 86, Loss: 0.38654194133622305\u001b[0m\n",
      "\u001b[34mEpoch: 87, Loss: 0.3984647733824594\u001b[0m\n",
      "\u001b[34mEpoch: 88, Loss: 0.40859681367874146\u001b[0m\n",
      "\u001b[34mEpoch: 89, Loss: 0.3942788860627583\u001b[0m\n",
      "\u001b[34mEpoch: 90, Loss: 0.40913665081773487\u001b[0m\n",
      "\u001b[34mEpoch: 91, Loss: 0.3741955203669412\u001b[0m\n",
      "\u001b[34mEpoch: 92, Loss: 0.3795159522976194\u001b[0m\n",
      "\u001b[34mEpoch: 93, Loss: 0.3769777204309191\u001b[0m\n",
      "\u001b[34mEpoch: 94, Loss: 0.39543360258851734\u001b[0m\n",
      "\u001b[34mEpoch: 95, Loss: 0.38763037749699186\u001b[0m\n",
      "\u001b[34mEpoch: 96, Loss: 0.37903987084116253\u001b[0m\n",
      "\u001b[34mEpoch: 97, Loss: 0.40129661347184864\u001b[0m\n",
      "\u001b[34mEpoch: 98, Loss: 0.39041941719395773\u001b[0m\n",
      "\u001b[34mEpoch: 99, Loss: 0.38020663814885275\u001b[0m\n",
      "\u001b[34mEpoch: 100, Loss: 0.37593282546315876\u001b[0m\n",
      "\u001b[34m2020-01-08 19:44:30,798 sagemaker-containers INFO     Reporting training SUCCESS\u001b[0m\n",
      "\n",
      "2020-01-08 19:44:41 Uploading - Uploading generated training model\n",
      "2020-01-08 19:44:41 Completed - Training job completed\n",
      "Training seconds: 96\n",
      "Billable seconds: 96\n",
      "CPU times: user 770 ms, sys: 60.9 ms, total: 831 ms\n",
      "Wall time: 6min 13s\n"
     ]
    }
   ],
   "source": [
    "%%time\n",
    "\n",
    "# Train your estimator on S3 training data\n",
    "estimator.fit({'train': train_path})"
   ]
  },
  {
   "cell_type": "markdown",
   "metadata": {},
   "source": [
    "## EXERCISE: Deploy the trained model\n",
    "\n",
    "After training, deploy your model to create a `predictor`. If you're using a PyTorch model, you'll need to create a trained `PyTorchModel` that accepts the trained `<model>.model_data` as an input parameter and points to the provided `source_pytorch/predict.py` file as an entry point. \n",
    "\n",
    "To deploy a trained model, you'll use `<model>.deploy`, which takes in two arguments:\n",
    "* **initial_instance_count**: The number of deployed instances (1).\n",
    "* **instance_type**: The type of SageMaker instance for deployment.\n",
    "\n",
    "Note: If you run into an instance error, it may be because you chose the wrong training or deployment instance_type. It may help to refer to your previous exercise code to see which types of instances we used."
   ]
  },
  {
   "cell_type": "code",
   "execution_count": 17,
   "metadata": {},
   "outputs": [
    {
     "name": "stdout",
     "output_type": "stream",
     "text": [
      "CPU times: user 9.97 ms, sys: 4.17 ms, total: 14.1 ms\n",
      "Wall time: 79.2 ms\n"
     ]
    }
   ],
   "source": [
    "%%time\n",
    "\n",
    "from sagemaker.pytorch import PyTorchModel\n",
    "\n",
    "# Create a model from the trained estimator data\n",
    "# And point to the prediction script\n",
    "model = PyTorchModel(model_data=estimator.model_data,\n",
    "                     role=role,\n",
    "                     entry_point=\"predict.py\",\n",
    "                     source_dir=\"source_pytorch\",\n",
    "                     framework_version='1.0')\n"
   ]
  },
  {
   "cell_type": "code",
   "execution_count": 18,
   "metadata": {},
   "outputs": [
    {
     "name": "stdout",
     "output_type": "stream",
     "text": [
      "---------------------------------------------------------------------------------------------------------------------------------------!"
     ]
    }
   ],
   "source": [
    "predictor = model.deploy(initial_instance_count=1, instance_type='ml.p2.xlarge')"
   ]
  },
  {
   "cell_type": "markdown",
   "metadata": {},
   "source": [
    "---\n",
    "# Evaluating Your Model\n",
    "\n",
    "Once your model is deployed, you can see how it performs when applied to our test data.\n",
    "\n",
    "The provided cell below, reads in the test data, assuming it is stored locally in `data_dir` and named `test.csv`. The labels and features are extracted from the `.csv` file."
   ]
  },
  {
   "cell_type": "code",
   "execution_count": 12,
   "metadata": {},
   "outputs": [],
   "source": [
    "\"\"\"\n",
    "DON'T MODIFY ANYTHING IN THIS CELL THAT IS BELOW THIS LINE\n",
    "\"\"\"\n",
    "import os\n",
    "\n",
    "# read in test data, assuming it is stored locally\n",
    "test_data = pd.read_csv(test_data_dir, header=None, names=None)\n",
    "\n",
    "# labels are in the first column\n",
    "test_y = test_data.iloc[:,0]\n",
    "test_x = test_data.iloc[:,1:]"
   ]
  },
  {
   "cell_type": "markdown",
   "metadata": {},
   "source": [
    "## EXERCISE: Determine the accuracy of your model\n",
    "\n",
    "Use your deployed `predictor` to generate predicted, class labels for the test data. Compare those to the *true* labels, `test_y`, and calculate the accuracy as a value between 0 and 1.0 that indicates the fraction of test data that your model classified correctly. You may use [sklearn.metrics](https://scikit-learn.org/stable/modules/classes.html#module-sklearn.metrics) for this calculation.\n",
    "\n",
    "**To pass this project, your model should get at least 90% test accuracy.**"
   ]
  },
  {
   "cell_type": "code",
   "execution_count": 20,
   "metadata": {},
   "outputs": [
    {
     "name": "stdout",
     "output_type": "stream",
     "text": [
      "Test passed!\n"
     ]
    }
   ],
   "source": [
    "# First: generate predicted, class labels\n",
    "import numpy as np\n",
    "test_y_preds =  np.squeeze(np.round(predictor.predict(test_x)))\n",
    "\n",
    "\n",
    "\"\"\"\n",
    "DON'T MODIFY ANYTHING IN THIS CELL THAT IS BELOW THIS LINE\n",
    "\"\"\"\n",
    "# test that your model generates the correct number of labels\n",
    "assert len(test_y_preds)==len(test_y), 'Unexpected number of predictions.'\n",
    "print('Test passed!')"
   ]
  },
  {
   "cell_type": "code",
   "execution_count": 22,
   "metadata": {},
   "outputs": [
    {
     "name": "stdout",
     "output_type": "stream",
     "text": [
      "0.92\n",
      "\n",
      "Predicted class labels: \n",
      "[1. 1. 1. 1. 1. 1. 0. 0. 0. 1. 0. 0. 1. 1. 1. 1. 1. 1. 0. 1. 1. 1. 1. 0.\n",
      " 0.]\n",
      "\n",
      "True class labels: \n",
      "[1 1 1 1 1 1 0 0 0 0 0 0 1 1 1 1 1 1 0 1 0 1 1 0 0]\n"
     ]
    }
   ],
   "source": [
    "# Second: calculate the test accuracy\n",
    "\n",
    "# calculate true positives, false positives, true negatives, false negatives\n",
    "tp = np.logical_and(test_y, test_y_preds).sum()\n",
    "fp = np.logical_and(1 - test_y, test_y_preds).sum()\n",
    "tn = np.logical_and(1 - test_y, 1 - test_y_preds).sum()\n",
    "fn = np.logical_and(test_y, 1 - test_y_preds).sum()\n",
    "\n",
    "accuracy = (tp + tn) / (tp + fp + tn + fn)\n",
    "\n",
    "print(accuracy)\n",
    "\n",
    "\n",
    "## print out the array of predicted and true labels, if you want\n",
    "print('\\nPredicted class labels: ')\n",
    "print(test_y_preds)\n",
    "print('\\nTrue class labels: ')\n",
    "print(test_y.values)"
   ]
  },
  {
   "cell_type": "code",
   "execution_count": 26,
   "metadata": {},
   "outputs": [
    {
     "data": {
      "text/html": [
       "<div>\n",
       "<style scoped>\n",
       "    .dataframe tbody tr th:only-of-type {\n",
       "        vertical-align: middle;\n",
       "    }\n",
       "\n",
       "    .dataframe tbody tr th {\n",
       "        vertical-align: top;\n",
       "    }\n",
       "\n",
       "    .dataframe thead th {\n",
       "        text-align: right;\n",
       "    }\n",
       "</style>\n",
       "<table border=\"1\" class=\"dataframe\">\n",
       "  <thead>\n",
       "    <tr style=\"text-align: right;\">\n",
       "      <th></th>\n",
       "      <th>TP</th>\n",
       "      <th>FP</th>\n",
       "      <th>TN</th>\n",
       "      <th>FN</th>\n",
       "    </tr>\n",
       "  </thead>\n",
       "  <tbody>\n",
       "    <tr>\n",
       "      <th>value</th>\n",
       "      <td>15</td>\n",
       "      <td>2</td>\n",
       "      <td>8</td>\n",
       "      <td>0</td>\n",
       "    </tr>\n",
       "  </tbody>\n",
       "</table>\n",
       "</div>"
      ],
      "text/plain": [
       "       TP  FP  TN  FN\n",
       "value  15   2   8   0"
      ]
     },
     "execution_count": 26,
     "metadata": {},
     "output_type": "execute_result"
    }
   ],
   "source": [
    "pd.DataFrame({\"TP\":tp, \"FP\": fp, \"TN\": tn, \"FN\": fn}, index=[\"value\"])"
   ]
  },
  {
   "cell_type": "markdown",
   "metadata": {},
   "source": [
    "### Question 1: How many false positives and false negatives did your model produce, if any? And why do you think this is?"
   ]
  },
  {
   "cell_type": "markdown",
   "metadata": {},
   "source": [
    "The model produced 2 false positives and 0 false negatives - an indication of the model is doing quite well. However, since our dataset is really small, resulting in a very small test set of only 25 test paragraphs. We defined postive cases as the writing sample is plagraized, negative cases as not plagarized. The dataset is relatively balanced, making this a rather simple task for deep learning models to detect. In addition, the distribution of words for each individual task should be relatively close, which makes the performance of such tasks desirable"
   ]
  },
  {
   "cell_type": "markdown",
   "metadata": {},
   "source": [
    "### Question 2: How did you decide on the type of model to use? "
   ]
  },
  {
   "cell_type": "markdown",
   "metadata": {},
   "source": [
    "I believe NLP classification tasks are naturally a fit for deep learning. Since the distribution of words on a  certain task will be relatively similar, using deep learning model will be able to help us detect plagarism using a small amount of training data - therefore building a binary classifier with pytorch is the right choice."
   ]
  },
  {
   "cell_type": "markdown",
   "metadata": {},
   "source": [
    "----\n",
    "## EXERCISE: Clean up Resources\n",
    "\n",
    "After you're done evaluating your model, **delete your model endpoint**. You can do this with a call to `.delete_endpoint()`. You need to show, in this notebook, that the endpoint was deleted. Any other resources, you may delete from the AWS console, and you will find more instructions on cleaning up all your resources, below."
   ]
  },
  {
   "cell_type": "code",
   "execution_count": 23,
   "metadata": {},
   "outputs": [],
   "source": [
    "# uncomment and fill in the line below!\n",
    "predictor.delete_endpoint()"
   ]
  },
  {
   "cell_type": "markdown",
   "metadata": {},
   "source": [
    "### Deleting S3 bucket\n",
    "\n",
    "When you are *completely* done with training and testing models, you can also delete your entire S3 bucket. If you do this before you are done training your model, you'll have to recreate your S3 bucket and upload your training data again."
   ]
  },
  {
   "cell_type": "code",
   "execution_count": 27,
   "metadata": {},
   "outputs": [
    {
     "data": {
      "text/plain": [
       "[{'ResponseMetadata': {'RequestId': 'F1C807C8FD44EA1F',\n",
       "   'HostId': 'yMHR95uWNbr/TM015GnDS2ms3nKCxK4Mrgziy4eHMfxYSSYXt7zg0CkZDqvceeN2+qq5+MQGd6Q=',\n",
       "   'HTTPStatusCode': 200,\n",
       "   'HTTPHeaders': {'x-amz-id-2': 'yMHR95uWNbr/TM015GnDS2ms3nKCxK4Mrgziy4eHMfxYSSYXt7zg0CkZDqvceeN2+qq5+MQGd6Q=',\n",
       "    'x-amz-request-id': 'F1C807C8FD44EA1F',\n",
       "    'date': 'Thu, 09 Jan 2020 02:49:35 GMT',\n",
       "    'connection': 'close',\n",
       "    'content-type': 'application/xml',\n",
       "    'transfer-encoding': 'chunked',\n",
       "    'server': 'AmazonS3'},\n",
       "   'RetryAttempts': 0},\n",
       "  'Deleted': [{'Key': 'sagemaker-pytorch-2020-01-08-19-38-53-582/source/sourcedir.tar.gz'},\n",
       "   {'Key': 'sagemaker-pytorch-2020-01-08-20-41-37-912/sourcedir.tar.gz'},\n",
       "   {'Key': 'energy_consumption/output/forecasting-deepar-2020-01-04-05-30-21-972/output/model.tar.gz'},\n",
       "   {'Key': 'energy_consumption/test/test.json'},\n",
       "   {'Key': 'sagemaker-pytorch-2020-01-08-08-46-48-373/source/sourcedir.tar.gz'},\n",
       "   {'Key': 'plagrism_detection/training/train.csv'},\n",
       "   {'Key': 'sagemaker-pytorch-2020-01-08-08-08-36-195/debug-output/training_job_end.ts'},\n",
       "   {'Key': 'sagemaker-pytorch-2020-01-08-19-38-53-582/output/model.tar.gz'},\n",
       "   {'Key': 'sagemaker-pytorch-2020-01-08-08-46-48-373/debug-output/training_job_end.ts'},\n",
       "   {'Key': 'sagemaker-pytorch-2020-01-08-07-58-22-752/debug-output/training_job_end.ts'},\n",
       "   {'Key': 'sagemaker-pytorch-2020-01-08-07-59-20-159/debug-output/training_job_end.ts'},\n",
       "   {'Key': 'sagemaker-pytorch-2020-01-08-08-53-17-103/source/sourcedir.tar.gz'},\n",
       "   {'Key': 'sagemaker-pytorch-2020-01-08-09-09-49-275/debug-output/training_job_end.ts'},\n",
       "   {'Key': 'sagemaker-pytorch-2020-01-08-08-08-36-195/source/sourcedir.tar.gz'},\n",
       "   {'Key': 'sagemaker-pytorch-2020-01-08-07-58-22-752/source/sourcedir.tar.gz'},\n",
       "   {'Key': 'sagemaker-pytorch-2020-01-08-09-09-49-275/output/model.tar.gz'},\n",
       "   {'Key': 'sagemaker-pytorch-2020-01-08-08-23-39-944/debug-output/training_job_end.ts'},\n",
       "   {'Key': 'sagemaker-pytorch-2020-01-08-19-38-53-582/debug-output/training_job_end.ts'},\n",
       "   {'Key': 'plagrism_detection/test/test.csv'},\n",
       "   {'Key': 'sagemaker-pytorch-2020-01-08-08-35-53-500/source/sourcedir.tar.gz'},\n",
       "   {'Key': 'sagemaker-pytorch-2020-01-08-08-41-17-214/debug-output/training_job_end.ts'},\n",
       "   {'Key': 'sagemaker-pytorch-2020-01-08-09-01-47-336/output/model.tar.gz'},\n",
       "   {'Key': 'sagemaker-pytorch-2020-01-08-08-23-39-944/source/sourcedir.tar.gz'},\n",
       "   {'Key': 'sagemaker-pytorch-2020-01-08-07-33-57-502/debug-output/training_job_end.ts'},\n",
       "   {'Key': 'sagemaker-pytorch-2020-01-08-19-51-47-593/sourcedir.tar.gz'},\n",
       "   {'Key': 'sagemaker-pytorch-2020-01-08-08-35-53-500/debug-output/training_job_end.ts'},\n",
       "   {'Key': 'sagemaker-pytorch-2020-01-08-08-53-17-103/debug-output/training_job_end.ts'},\n",
       "   {'Key': 'sagemaker-pytorch-2020-01-08-07-59-20-159/source/sourcedir.tar.gz'},\n",
       "   {'Key': 'energy_consumption/train/train.json'},\n",
       "   {'Key': 'sagemaker-pytorch-2020-01-08-07-33-57-502/source/sourcedir.tar.gz'},\n",
       "   {'Key': 'sagemaker-pytorch-2020-01-08-08-41-17-214/source/sourcedir.tar.gz'},\n",
       "   {'Key': 'sagemaker-pytorch-2020-01-08-09-09-49-275/source/sourcedir.tar.gz'},\n",
       "   {'Key': 'sagemaker-pytorch-2020-01-08-09-01-47-336/source/sourcedir.tar.gz'},\n",
       "   {'Key': 'sagemaker-pytorch-2020-01-08-09-01-47-336/debug-output/training_job_end.ts'},\n",
       "   {'Key': 'sagemaker-pytorch-2020-01-08-19-51-47-830/sourcedir.tar.gz'}]}]"
      ]
     },
     "execution_count": 27,
     "metadata": {},
     "output_type": "execute_result"
    }
   ],
   "source": [
    "# deleting bucket, uncomment lines below\n",
    "\n",
    "bucket_to_delete = boto3.resource('s3').Bucket(bucket)\n",
    "bucket_to_delete.objects.all().delete()"
   ]
  },
  {
   "cell_type": "markdown",
   "metadata": {},
   "source": [
    "### Deleting all your models and instances\n",
    "\n",
    "When you are _completely_ done with this project and do **not** ever want to revisit this notebook, you can choose to delete all of your SageMaker notebook instances and models by following [these instructions](https://docs.aws.amazon.com/sagemaker/latest/dg/ex1-cleanup.html). Before you delete this notebook instance, I recommend at least downloading a copy and saving it, locally."
   ]
  },
  {
   "cell_type": "markdown",
   "metadata": {},
   "source": [
    "---\n",
    "## Further Directions\n",
    "\n",
    "There are many ways to improve or add on to this project to expand your learning or make this more of a unique project for you. A few ideas are listed below:\n",
    "* Train a classifier to predict the *category* (1-3) of plagiarism and not just plagiarized (1) or not (0).\n",
    "* Utilize a different and larger dataset to see if this model can be extended to other types of plagiarism.\n",
    "* Use language or character-level analysis to find different (and more) similarity features.\n",
    "* Write a complete pipeline function that accepts a source text and submitted text file, and classifies the submitted text as plagiarized or not.\n",
    "* Use API Gateway and a lambda function to deploy your model to a web application.\n",
    "\n",
    "These are all just options for extending your work. If you've completed all the exercises in this notebook, you've completed a real-world application, and can proceed to submit your project. Great job!"
   ]
  }
 ],
 "metadata": {
  "kernelspec": {
   "display_name": "conda_pytorch_p36",
   "language": "python",
   "name": "conda_pytorch_p36"
  },
  "language_info": {
   "codemirror_mode": {
    "name": "ipython",
    "version": 3
   },
   "file_extension": ".py",
   "mimetype": "text/x-python",
   "name": "python",
   "nbconvert_exporter": "python",
   "pygments_lexer": "ipython3",
   "version": "3.6.5"
  }
 },
 "nbformat": 4,
 "nbformat_minor": 4
}
