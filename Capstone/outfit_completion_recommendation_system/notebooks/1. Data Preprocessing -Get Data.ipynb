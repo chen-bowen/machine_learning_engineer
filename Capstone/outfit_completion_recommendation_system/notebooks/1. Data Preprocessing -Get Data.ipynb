{
 "cells": [
  {
   "cell_type": "markdown",
   "metadata": {},
   "source": [
    "# Data Preprocessing - Data Download"
   ]
  },
  {
   "cell_type": "markdown",
   "metadata": {},
   "source": [
    "Import packages"
   ]
  },
  {
   "cell_type": "code",
   "execution_count": 1,
   "metadata": {},
   "outputs": [
    {
     "name": "stdout",
     "output_type": "stream",
     "text": [
      "/Users/chen_bowen/Data Science/Udacity Courses/machine_learning_engineer/Capstone/outfit_completion_recommendation_system\n"
     ]
    }
   ],
   "source": [
    "import json\n",
    "import pandas as pd\n",
    "from skimage import io\n",
    "import h5py\n",
    "import numpy as np\n",
    "%cd .."
   ]
  },
  {
   "cell_type": "markdown",
   "metadata": {},
   "source": [
    "Define data directory url and read json file to a dict"
   ]
  },
  {
   "cell_type": "code",
   "execution_count": 2,
   "metadata": {},
   "outputs": [],
   "source": [
    "with open('9/fashion.json') as json_file:\n",
    "    fashion_product_scene_mapping = [json.loads(line) for line in json_file]\n",
    "\n",
    "with open('data/external/fashion-cat.json') as json_file:\n",
    "    fashion_product_categories = [json.loads(line) for line in json_file]\n",
    "    \n",
    "with open('data/external/home.json') as json_file:\n",
    "    home_product_scene_mapping = [json.loads(line) for line in json_file]\n",
    "\n",
    "with open('data/external/home-cat.json') as json_file:\n",
    "    home_product_categories = [json.loads(line) for line in json_file]"
   ]
  },
  {
   "cell_type": "markdown",
   "metadata": {},
   "source": [
    "Use the `convert_to_url` function to get the url from the signature"
   ]
  },
  {
   "cell_type": "code",
   "execution_count": 3,
   "metadata": {},
   "outputs": [],
   "source": [
    "def convert_to_url(signature):\n",
    "    prefix = 'http://i.pinimg.com/400x/%s/%s/%s/%s.jpg'\n",
    "    return prefix % (signature[0:2], signature[2:4], signature[4:6], signature)"
   ]
  },
  {
   "cell_type": "markdown",
   "metadata": {},
   "source": [
    "save the data into two lists"
   ]
  },
  {
   "cell_type": "code",
   "execution_count": 4,
   "metadata": {},
   "outputs": [],
   "source": [
    "from os import listdir\n",
    "def image_retrieval(image_raw_mapping, image_cat= \"fashion\", image_type=\"product\"):\n",
    "    \"\"\" Retrieve all image data and save all \"\"\"\n",
    "    # remove duplicates\n",
    "    image_raw_list = [i[image_type] for i in image_raw_mapping]\n",
    "    image_raw_list_unique = list(dict.fromkeys(image_raw_list))\n",
    "    output_img_path = \"data/raw/{}_{}\".format(image_cat, image_type)\n",
    "    # get all unique images\n",
    "    for signature in image_raw_list_unique:\n",
    "        existed = [x[:-4] for x in listdir(\"data/raw/fashion_scene/\")]\n",
    "        if signature not in existed:\n",
    "            image_url = convert_to_url(signature)\n",
    "            try:\n",
    "                img = io.imread(image_url)\n",
    "                io.imsave(output_img_path + '/{}.jpg'.format(signature), img)\n",
    "            except:\n",
    "                print(image_url)"
   ]
  },
  {
   "cell_type": "code",
   "execution_count": 6,
   "metadata": {},
   "outputs": [],
   "source": [
    "image_retrieval(fashion_product_scene_mapping)\n",
    "image_retrieval(fashion_product_scene_mapping, image_cat= \"fashion\", image_type=\"scene\")\n",
    "image_retrieval(home_product_scene_mapping, image_cat= \"home\", image_type=\"product\")\n",
    "image_retrieval(home_product_scene_mapping, image_cat= \"home\", image_type=\"scene\")"
   ]
  },
  {
   "cell_type": "markdown",
   "metadata": {},
   "source": [
    "get the max width and height for padding the images to the same shape"
   ]
  },
  {
   "cell_type": "code",
   "execution_count": 18,
   "metadata": {},
   "outputs": [],
   "source": [
    "def max_width_height(image_list):\n",
    "    h_w = np.array([[img.shape[0], img.shape[1]] for img in image_list])\n",
    "    max_width = max(h_w[:, 1])\n",
    "    max_height = max(h_w[:, 0])\n",
    "    return max_height, max_width"
   ]
  },
  {
   "cell_type": "code",
   "execution_count": 19,
   "metadata": {},
   "outputs": [
    {
     "data": {
      "text/plain": [
       "(882, 400)"
      ]
     },
     "execution_count": 19,
     "metadata": {},
     "output_type": "execute_result"
    }
   ],
   "source": [
    "max_width_height(image_list)"
   ]
  },
  {
   "cell_type": "markdown",
   "metadata": {},
   "source": [
    "pad all the images to the max height and width"
   ]
  },
  {
   "cell_type": "code",
   "execution_count": 23,
   "metadata": {},
   "outputs": [
    {
     "data": {
      "text/plain": [
       "{'product': '588a44c6c2f5c79352fa01e84bec0a52',\n",
       " 'scene': 'f86017bc2e570936f6850e92267e15f3',\n",
       " 'bbox': [0.21987, 0.204131, 0.681583, 0.43806]}"
      ]
     },
     "execution_count": 23,
     "metadata": {},
     "output_type": "execute_result"
    }
   ],
   "source": [
    "fashion_product_scene_mapping[1000]"
   ]
  },
  {
   "cell_type": "markdown",
   "metadata": {},
   "source": [
    "Save all the images to a HDF5 file"
   ]
  },
  {
   "cell_type": "code",
   "execution_count": null,
   "metadata": {},
   "outputs": [],
   "source": []
  }
 ],
 "metadata": {
  "kernelspec": {
   "display_name": "complete_the_look",
   "language": "python",
   "name": "complete_the_look"
  },
  "language_info": {
   "codemirror_mode": {
    "name": "ipython",
    "version": 3
   },
   "file_extension": ".py",
   "mimetype": "text/x-python",
   "name": "python",
   "nbconvert_exporter": "python",
   "pygments_lexer": "ipython3",
   "version": "3.7.6"
  }
 },
 "nbformat": 4,
 "nbformat_minor": 4
}
